{
  "cells": [
    {
      "cell_type": "markdown",
      "metadata": {
        "id": "view-in-github",
        "colab_type": "text"
      },
      "source": [
        "<a href=\"https://colab.research.google.com/github/craigls/sd-lora-test/blob/main/nes_style.ipynb\" target=\"_parent\"><img src=\"https://colab.research.google.com/assets/colab-badge.svg\" alt=\"Open In Colab\"/></a>"
      ]
    },
    {
      "cell_type": "code",
      "execution_count": null,
      "metadata": {
        "id": "yq0z6l4SgnrI"
      },
      "outputs": [],
      "source": [
        "!pip install git+https://github.com/huggingface/diffusers datasets[vision] accelerate comet_ml Pillow huggingface_hub[hf_xet]\n",
        "!pip install bitsandbytes\n",
        "!wget https://gist.githubusercontent.com/craigls/7adeb56a9a32e387f6355baee947653a/raw/5963845edc9f6bd9d0ea2c95faa67fb4874ee997/train_text_to_image_lora.py -O train_text_to_image_lora.py\n",
        "!accelerate config default"
      ]
    },
    {
      "cell_type": "code",
      "execution_count": null,
      "metadata": {
        "id": "8VKgWuyZnwxA"
      },
      "outputs": [],
      "source": [
        "import re\n",
        "import os\n",
        "import zipfile\n",
        "import random\n",
        "import json\n",
        "import shutil\n",
        "import urllib.request\n",
        "from google.colab import drive\n",
        "from datetime import datetime\n",
        "import uuid\n",
        "\n",
        "ROOT = \"/content/drive\"\n",
        "RUN_ID = str(uuid.uuid4())\n",
        "MODEL_NAME = \"stabilityai/stable-diffusion-2-1-base\"\n",
        "INPUT_DIR = f\"{ROOT}/MyDrive/sd-lora-nes/input/{RUN_ID}\"\n",
        "OUTPUT_DIR = f\"{ROOT}/MyDrive/sd-lora-nes/output\"\n",
        "TMP_DIR = f\"{ROOT}/MyDrive/tmp\"\n",
        "\n",
        "IMAGES_ZIPFILE_URL = \"https://archive.org/download/No-Intro_Thumbnails_2016-04-10/Nintendo%20-%20Nintendo%20Entertainment%20System.zip\"\n",
        "IMAGES_ZIPFILE = f\"{TMP_DIR}/NES.zip\"\n",
        "\n",
        "TRAINING_SET_SIZE = 200\n",
        "\n",
        "RE_SCREENSHOT = re.compile(r\".*/Named_Snaps/.+\\.png$\")\n",
        "RE_TITLE = re.compile(r'.*/(.+?) \\(')\n",
        "\n",
        "drive.mount(ROOT)\n",
        "\n",
        "os.makedirs(INPUT_DIR, exist_ok=True)\n",
        "os.makedirs(OUTPUT_DIR, exist_ok=True)\n",
        "os.makedirs(TMP_DIR, exist_ok=True)\n"
      ]
    },
    {
      "cell_type": "code",
      "execution_count": null,
      "metadata": {
        "id": "bAZxVNA0GHhN"
      },
      "outputs": [],
      "source": [
        "from PIL import Image\n",
        "\n",
        "CAPTION = \"nes_style\"\n",
        "\n",
        "# Download the screenshots zip file\n",
        "if not os.path.exists(IMAGES_ZIPFILE):\n",
        "  r = urllib.request.urlretrieve(IMAGES_ZIPFILE_URL, IMAGES_ZIPFILE)\n",
        "\n",
        "# Extract screenshots from zip and create metadata.jsonl for training data input\n",
        "with open(f'{INPUT_DIR}/metadata.jsonl', 'w') as mf:\n",
        "  with zipfile.ZipFile(IMAGES_ZIPFILE) as zf:\n",
        "    files = zf.namelist()[:]\n",
        "    random.shuffle(files)\n",
        "\n",
        "    for fn in [fn for fn in files if RE_SCREENSHOT.match(fn)][:TRAINING_SET_SIZE]:\n",
        "      basename = os.path.basename(fn)\n",
        "\n",
        "      # Extract file and copy to INPUT_DIR\n",
        "      destfn = os.path.join(INPUT_DIR, basename)\n",
        "      zf.extract(fn, TMP_DIR)\n",
        "\n",
        "      # Resize the image\n",
        "      img = Image.open(os.path.join(TMP_DIR, fn))\n",
        "      resized = img.resize((256 * 3, 224 * 3), Image.NEAREST)\n",
        "      resized.save(destfn)\n",
        "\n",
        "      # Add to metadata.jsonl\n",
        "      mf.write(json.dumps({\"file_name\": destfn, \"text\": f\"nes_style\"}) + '\\n')\n",
        "      print(f\"Selected image: {destfn} using caption: {CAPTION}\")"
      ]
    },
    {
      "cell_type": "code",
      "execution_count": null,
      "metadata": {
        "id": "TZR5fyEq-U8X"
      },
      "outputs": [],
      "source": [
        "import comet_ml\n",
        "comet_ml.login()"
      ]
    },
    {
      "cell_type": "markdown",
      "source": [],
      "metadata": {
        "id": "UrCD50HlDkEO"
      }
    },
    {
      "cell_type": "code",
      "execution_count": null,
      "metadata": {
        "id": "4Prw511jmFdp"
      },
      "outputs": [],
      "source": [
        "!accelerate launch train_text_to_image_lora.py \\\n",
        "  --pretrained_model_name_or_path=\"{MODEL_NAME}\" \\\n",
        "  --train_data_dir=\"{INPUT_DIR}\" \\\n",
        "  --train_batch_size=16 \\\n",
        "  --num_train_epochs=30 \\\n",
        "  --learning_rate=1e-4 \\\n",
        "  --lr_scheduler=\"constant\" \\\n",
        "  --output_dir=\"{OUTPUT_DIR}\" \\\n",
        "  --report_to=comet_ml \\\n",
        "  --rank=32"
      ]
    },
    {
      "cell_type": "code",
      "execution_count": null,
      "metadata": {
        "id": "oZ5kiXwMSEbu"
      },
      "outputs": [],
      "source": [
        "from diffusers import AutoPipelineForText2Image\n",
        "import torch\n",
        "\n",
        "pipe = AutoPipelineForText2Image.from_pretrained(MODEL_NAME, torch_dtype=torch.float16, use_safetensors=False).to(\"cuda\")\n",
        "pipe.load_lora_weights(f\"{OUTPUT_DIR}\", weight_name=\"pytorch_lora_weights.safetensors\")"
      ]
    },
    {
      "cell_type": "code",
      "execution_count": null,
      "metadata": {
        "id": "6KYKXn_6PnQD"
      },
      "outputs": [],
      "source": [
        "# chatgpt generated prompts\n",
        "prompts = [\n",
        "  \"nes_style mercenary exploring a ruined cathedral at twilight\",\n",
        "  \"nes_style robot racing through a collapsing digital city\",\n",
        "  \"nes_style adventurer scaling a forgotten temple deep in the jungle\",\n",
        "  \"nes_style hacker navigating through a glowing data stream\",\n",
        "  \"nes_style knight battling shadow creatures in an ancient crypt\",\n",
        "  \"nes_style pilot escaping a crumbling space station under attack\",\n",
        "  \"nes_style treasure hunter crossing a desert to reach a hidden pyramid\",\n",
        "  \"nes_style samurai fighting ghostly enemies on a stormy mountain pass\",\n",
        "  \"nes_style detective chasing criminals through neon-lit city streets\",\n",
        "  \"nes_style soldier protecting a secret base on an icy planet\",\n",
        "]\n",
        "for image in pipe(prompts, num_images_per_prompt=1).images:\n",
        "  display(image)\n"
      ]
    }
  ],
  "metadata": {
    "accelerator": "GPU",
    "colab": {
      "gpuType": "A100",
      "provenance": [],
      "authorship_tag": "ABX9TyNd0gvDt/MvjcHuejLXV3be",
      "include_colab_link": true
    },
    "kernelspec": {
      "display_name": "Python 3",
      "name": "python3"
    },
    "language_info": {
      "name": "python"
    }
  },
  "nbformat": 4,
  "nbformat_minor": 0
}